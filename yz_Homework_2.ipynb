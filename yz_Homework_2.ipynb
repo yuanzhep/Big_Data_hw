{
  "cells": [
    {
      "cell_type": "markdown",
      "metadata": {
        "id": "sq8U3BtmhtRx"
      },
      "source": [
        "\n",
        "# ECE795 Advanced Big Data Analytics Homework 2 (Due 2/17 before lecture)\n",
        "\n",
        "Set up Pyspark Environment.\n",
        "\n",
        "Tips for Colab:\n",
        "\n",
        "1. You will be disconnected if you are idle for more than 90 minutes and will be mandatorily disconnected after 12 hour connection. \n",
        "\n",
        "2. Once you got disconnected, you need to execute the codes from the beginning to setup the environment again.\n",
        "\n",
        "3. For the purpose of homework, it should be sufficient since each problem should not take more than 5 minutes to generate the results.\n",
        "\n",
        "4. To facilitate the use of Colab, you can use \"MainMenu - Runtime - Run all” to run all the cells in the notebook. So you do not have to click each cell to setup the environment."
      ]
    },
    {
      "cell_type": "code",
      "execution_count": null,
      "metadata": {
        "colab": {
          "base_uri": "https://localhost:8080/"
        },
        "id": "XXFEbhsvFWTn",
        "outputId": "5495cc4b-3615-4bf4-9ee2-78ad12b3de0b"
      },
      "outputs": [
        {
          "output_type": "stream",
          "name": "stdout",
          "text": [
            "Collecting pyspark\n",
            "  Downloading pyspark-3.2.1.tar.gz (281.4 MB)\n",
            "\u001b[K     |████████████████████████████████| 281.4 MB 35 kB/s \n",
            "\u001b[?25hCollecting py4j==0.10.9.3\n",
            "  Downloading py4j-0.10.9.3-py2.py3-none-any.whl (198 kB)\n",
            "\u001b[K     |████████████████████████████████| 198 kB 58.9 MB/s \n",
            "\u001b[?25hBuilding wheels for collected packages: pyspark\n",
            "  Building wheel for pyspark (setup.py) ... \u001b[?25l\u001b[?25hdone\n",
            "  Created wheel for pyspark: filename=pyspark-3.2.1-py2.py3-none-any.whl size=281853642 sha256=c0ac02968cf15c3b4d78229b4619dfb58d4ce1e2f2fd3bf031a8750039715872\n",
            "  Stored in directory: /root/.cache/pip/wheels/9f/f5/07/7cd8017084dce4e93e84e92efd1e1d5334db05f2e83bcef74f\n",
            "Successfully built pyspark\n",
            "Installing collected packages: py4j, pyspark\n",
            "Successfully installed py4j-0.10.9.3 pyspark-3.2.1\n"
          ]
        }
      ],
      "source": [
        "!pip install pyspark\n",
        "!pip install -q findspark\n",
        "\n",
        "import findspark\n",
        "findspark.init()\n",
        "from pyspark.sql import SparkSession\n",
        "spark = SparkSession.builder.master(\"local[*]\").getOrCreate()"
      ]
    },
    {
      "cell_type": "markdown",
      "metadata": {
        "id": "JEb4HTRwiaJx"
      },
      "source": [
        "Congrats! Your Colab is ready to run Pyspark.\n",
        "\n",
        "# Read input text file to RDD \n",
        "\n",
        "Download the input data from [here](https://raw.githubusercontent.com/umddm/ECE795_Homeworks_Spring2022/homework_2/Gutenberg.txt)."
      ]
    },
    {
      "cell_type": "code",
      "execution_count": null,
      "metadata": {
        "colab": {
          "base_uri": "https://localhost:8080/"
        },
        "id": "PAISFqHXf7dt",
        "outputId": "40dda405-a6de-4d09-86e8-75cba0e4af6f"
      },
      "outputs": [
        {
          "output_type": "stream",
          "name": "stdout",
          "text": [
            "--2022-02-16 05:31:11--  https://raw.githubusercontent.com/umddm/ECE795_Homeworks_Spring2022/homework_2/Gutenberg.txt\n",
            "Resolving raw.githubusercontent.com (raw.githubusercontent.com)... 185.199.108.133, 185.199.109.133, 185.199.110.133, ...\n",
            "Connecting to raw.githubusercontent.com (raw.githubusercontent.com)|185.199.108.133|:443... connected.\n",
            "HTTP request sent, awaiting response... 200 OK\n",
            "Length: 3536418 (3.4M) [text/plain]\n",
            "Saving to: ‘Gutenberg.txt’\n",
            "\n",
            "Gutenberg.txt       100%[===================>]   3.37M  --.-KB/s    in 0.05s   \n",
            "\n",
            "2022-02-16 05:31:12 (71.7 MB/s) - ‘Gutenberg.txt’ saved [3536418/3536418]\n",
            "\n"
          ]
        }
      ],
      "source": [
        "!wget https://raw.githubusercontent.com/umddm/ECE795_Homeworks_Spring2022/homework_2/Gutenberg.txt"
      ]
    },
    {
      "cell_type": "markdown",
      "metadata": {
        "id": "21D9EANUvnwF"
      },
      "source": [
        "Now that we have input data, we can start to do the homework. \n",
        "\n",
        "## Question 1 (4 points): The following RDD, 'sentences', contains all the sentences in the text file. Please use 'flatMap' function to create another RDD called 'words' that contains all the words in the text file, then count the number of distinct words in this RDD.\n"
      ]
    },
    {
      "cell_type": "code",
      "execution_count": null,
      "metadata": {
        "colab": {
          "base_uri": "https://localhost:8080/"
        },
        "id": "0ZeJ7WQCgM8g",
        "outputId": "859efdcf-4c8b-4bdf-d18d-3d24dca1c4af"
      },
      "outputs": [
        {
          "output_type": "execute_result",
          "data": {
            "text/plain": [
              "104116"
            ]
          },
          "metadata": {},
          "execution_count": 67
        }
      ],
      "source": [
        "# The following code is from the previous homework\n",
        "from pyspark import SparkConf, SparkContext\n",
        "def removeNonAlpabet(s):\n",
        "    return ''.join([i.lower() for i in s if i.isalpha() or i==' ']).lstrip().rstrip()\n",
        "\n",
        "sc = SparkContext.getOrCreate()\n",
        "sentences = sc.textFile('Gutenberg.txt').map(removeNonAlpabet).filter(lambda x: x!='')\n",
        "\n",
        "\n",
        "#Question_1:\n",
        "#Fill out here\n",
        "\n",
        "words = sentences.flatMap(lambda line: line.split())\n",
        "distinct_words = words.distinct()\n",
        "distinct_words.count()"
      ]
    },
    {
      "cell_type": "markdown",
      "metadata": {
        "id": "Y3vYyp5dwOm_"
      },
      "source": [
        "## Question 2 (5 points): For the 'words' RDD in Question 1, please find the its top 10 most frequent words."
      ]
    },
    {
      "cell_type": "code",
      "source": [
        "#Question_2:\n",
        "#Fill out here\n",
        "\n",
        "c_words = words.map(lambda word: (word,1))\n",
        "c_words = c_words.reduceByKey(lambda v1, v2: v1 + v2)\n",
        "c_words = c_words.map(lambda x: (x[1], x[0]))\n",
        "c_words = c_words.groupByKey().mapValues(list)\n",
        "c_words.top(10)"
      ],
      "metadata": {
        "colab": {
          "base_uri": "https://localhost:8080/"
        },
        "id": "AabmrOXACdOy",
        "outputId": "f29c64aa-81a4-421a-f4e6-bfebdcb97734"
      },
      "execution_count": null,
      "outputs": [
        {
          "output_type": "execute_result",
          "data": {
            "text/plain": [
              "[(6908, ['the']),\n",
              " (6853, ['subst']),\n",
              " (6820, ['of']),\n",
              " (6800, ['to']),\n",
              " (5828, ['in']),\n",
              " (5722, ['van']),\n",
              " (4875, ['de']),\n",
              " (4469, ['a']),\n",
              " (4107, ['een']),\n",
              " (3711, ['het'])]"
            ]
          },
          "metadata": {},
          "execution_count": 69
        }
      ]
    },
    {
      "cell_type": "markdown",
      "metadata": {
        "id": "6FHVHVQjd4P1"
      },
      "source": [
        "## Question 3 (5 points): The following code will create another RDD called 'stop_words' that contains all the stop words in English. For the 'words' RDD in Question 1, please count its number of words that do not appear in 'stop_words'.\n"
      ]
    },
    {
      "cell_type": "code",
      "execution_count": null,
      "metadata": {
        "id": "Ti2busxehpKo",
        "colab": {
          "base_uri": "https://localhost:8080/"
        },
        "outputId": "a2603ffd-7bb8-42ff-8991-ff36e6992b2b"
      },
      "outputs": [
        {
          "output_type": "stream",
          "name": "stdout",
          "text": [
            "[nltk_data] Downloading package stopwords to /root/nltk_data...\n",
            "[nltk_data]   Package stopwords is already up-to-date!\n"
          ]
        }
      ],
      "source": [
        "#Question_3\n",
        "# The following code will create another RDD called 'stop_words' that contains all the 'stop words' in English.\n",
        "import nltk\n",
        "nltk.download('stopwords')\n",
        "from nltk.corpus import stopwords\n",
        "stop_words = sc.parallelize(stopwords.words('english'))"
      ]
    },
    {
      "cell_type": "code",
      "source": [
        "#Question_3\n",
        "#Fill out here\n",
        "\n",
        "words.subtract(stop_words).count() # 373182  \n",
        "\n",
        "# For the 'words' RDD in Question 1 ? \n",
        "# If the 'words' means distinct words, the solution should be 103978.       103978/104116\n",
        "# If the 'words' means words (not distinct), the solution should be 373182.    373182/446265\n",
        "# distinct_words = words.distinct()\n",
        "# distinct_words.subtract(stop_words).count()  # 103978, 138/179\n"
      ],
      "metadata": {
        "colab": {
          "base_uri": "https://localhost:8080/"
        },
        "id": "CijFbsyvHdwQ",
        "outputId": "a0a56f91-0213-4365-9c97-beeb6d11f17e"
      },
      "execution_count": null,
      "outputs": [
        {
          "output_type": "execute_result",
          "data": {
            "text/plain": [
              "373182"
            ]
          },
          "metadata": {},
          "execution_count": 82
        }
      ]
    },
    {
      "cell_type": "markdown",
      "metadata": {
        "id": "uIy1IL965Ogm"
      },
      "source": [
        "## Question 4 (16 points, 2 points for each function): Assume an RDD is created from a list of numbers, please determine whether it's appropriate to use each of the the following functions in a 'reduce' operation or not.\n",
        "\n"
      ]
    },
    {
      "cell_type": "code",
      "execution_count": null,
      "metadata": {
        "id": "7OmbLiCQ5ctu"
      },
      "outputs": [],
      "source": [
        "#Question_4\n",
        "'''\n",
        "Requirements:\n",
        "1. commutative: f(x, y) = f(y, x)\n",
        "2. associative: f(f(x, y), z) = f(x, f(y, z))\n",
        "'''\n",
        "\n",
        "#Function A\n",
        "'''\n",
        "Solution: No. For example, f[(1, 2), 3] = 1, f[1, (2, 3)] = 0. f[(1, 2), 3] != f[1, (2, 3)]\n",
        "'''\n",
        "def functionA(x, y):\n",
        "  if x != y:\n",
        "    return 1\n",
        "  else:\n",
        "    return 0\n",
        "\n",
        "#Function B\n",
        "'''\n",
        "Solution: No. For example, f(1, 2) = 1, f(2, 1) = 0. f(1, 2) != f(2, 1)\n",
        "'''\n",
        "def functionB(x, y):\n",
        "  if x < y :\n",
        "    return x\n",
        "  elif y > x:  \n",
        "    return y\n",
        "  else:\n",
        "    return 0\n",
        "\n",
        "#Function C\n",
        "'''\n",
        "Solution: Yes. f(x, y) = f(y, x), and f(f(x, y), z) = f(x, f(y, z))\n",
        "'''\n",
        "def functionC(x, y):\n",
        "  return x - 10 + y\n",
        "\n",
        "#Function D\n",
        "'''\n",
        "Solution: Yes. f(x, y) = f(y, x), and f(f(x, y), z) = f(x, f(y, z))\n",
        "'''\n",
        "def functionD(x, y):\n",
        "  return x * y + x + y\n",
        "\n",
        "#Function E\n",
        "'''\n",
        "Solution: No. For example, f[(1, 2), 3] = 12*12, f[1, (2, 3)] = 26*26. f[(1, 2), 3] != f[1, (2, 3)]\n",
        "'''\n",
        "def functionE(x, y):\n",
        "  return (x + y) ** 2\n",
        "\n",
        "#Function F\n",
        "'''\n",
        "Solution: No. For example, f[(1, 2), 3] = 17/4, f[1, (2, 3)] = 9/2. f[(1, 2), 3] != f[1, (2, 3)]\n",
        "'''\n",
        "def functionF(x, y):\n",
        "  return x / 2 + y\n",
        "\n",
        "#Function G\n",
        "'''\n",
        "Solution: No. For example, f(1, 2) = 9, f(2, 1) = 5. f(x, y) != f(y, x)\n",
        "'''\n",
        "def functionG(x, y):\n",
        "  return x ** 2 + y ** 3\n",
        "\n",
        "#Function H\n",
        "'''\n",
        "Solution: No. For example, f(1, 2) = -1/2, f(2, 1) = 1/2. f(x, y) != f(y, x)\n",
        "'''\n",
        "def functionH(x, y):\n",
        "  return (x - y) / 2"
      ]
    }
  ],
  "metadata": {
    "colab": {
      "collapsed_sections": [],
      "name": "yz_Homework_2.ipynb",
      "provenance": []
    },
    "kernelspec": {
      "display_name": "Python 3",
      "name": "python3"
    }
  },
  "nbformat": 4,
  "nbformat_minor": 0
}