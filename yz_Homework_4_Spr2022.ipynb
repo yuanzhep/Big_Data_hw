{
  "nbformat": 4,
  "nbformat_minor": 0,
  "metadata": {
    "colab": {
      "name": "0306_Homework_4_Spr2022.ipynb",
      "provenance": [],
      "collapsed_sections": []
    },
    "kernelspec": {
      "name": "python3",
      "display_name": "Python 3"
    }
  },
  "cells": [
    {
      "cell_type": "markdown",
      "metadata": {
        "id": "sq8U3BtmhtRx"
      },
      "source": [
        "\n",
        "# ECE795 Advanced Big Data Analytics Homework 4 (80 Points + 20 Bonus Points)\n",
        "\n",
        "Set up Pyspark Environment.\n",
        "\n",
        "Tips for Colab:\n",
        "\n",
        "1. You will be disconnected if you are idle for more than 90 minutes and will be mandatorily disconnected after 12 hour connection. \n",
        "\n",
        "2. Once you got disconnected, you need to execute the codes from the beginning to setup the environment again.\n",
        "\n",
        "3. For the purpose of homework, it should be sufficient since each problem should not take more than 5 minutes to generate the results.\n",
        "\n",
        "4. To facilitate the use of Colab, you can use \"MainMenu - Runtime - Run all” to run all the cells in the notebook. So you do not have to click each cell to setup the environment."
      ]
    },
    {
      "cell_type": "code",
      "metadata": {
        "id": "lh5NCoc8fsSO",
        "colab": {
          "base_uri": "https://localhost:8080/"
        },
        "outputId": "2ff3344f-c3ac-4ed6-c176-da95c4850cc6"
      },
      "source": [
        "!pip install pyspark\n",
        "!pip install -q findspark\n",
        "\n",
        "import findspark\n",
        "findspark.init()\n",
        "from pyspark.sql import SparkSession\n",
        "spark = SparkSession.builder.master(\"local[*]\").getOrCreate()"
      ],
      "execution_count": 1,
      "outputs": [
        {
          "output_type": "stream",
          "name": "stdout",
          "text": [
            "Collecting pyspark\n",
            "  Downloading pyspark-3.2.1.tar.gz (281.4 MB)\n",
            "\u001b[K     |████████████████████████████████| 281.4 MB 34 kB/s \n",
            "\u001b[?25hCollecting py4j==0.10.9.3\n",
            "  Downloading py4j-0.10.9.3-py2.py3-none-any.whl (198 kB)\n",
            "\u001b[K     |████████████████████████████████| 198 kB 41.4 MB/s \n",
            "\u001b[?25hBuilding wheels for collected packages: pyspark\n",
            "  Building wheel for pyspark (setup.py) ... \u001b[?25l\u001b[?25hdone\n",
            "  Created wheel for pyspark: filename=pyspark-3.2.1-py2.py3-none-any.whl size=281853642 sha256=ccd3005d1dbbc888490c98882871835b6ca4c80f7bfa765e8a936811f94ca7a6\n",
            "  Stored in directory: /root/.cache/pip/wheels/9f/f5/07/7cd8017084dce4e93e84e92efd1e1d5334db05f2e83bcef74f\n",
            "Successfully built pyspark\n",
            "Installing collected packages: py4j, pyspark\n",
            "Successfully installed py4j-0.10.9.3 pyspark-3.2.1\n"
          ]
        }
      ]
    },
    {
      "cell_type": "markdown",
      "metadata": {
        "id": "JEb4HTRwiaJx"
      },
      "source": [
        "Congrats! Your Colab is ready to run Pyspark.\n",
        "\n",
        "# Read input text file to RDD \n",
        "\n",
        "Download the input data from [here](https://raw.githubusercontent.com/umddm/ECE795_Homeworks/master/clust_B.txt)."
      ]
    },
    {
      "cell_type": "code",
      "metadata": {
        "id": "PAISFqHXf7dt",
        "colab": {
          "base_uri": "https://localhost:8080/"
        },
        "outputId": "15e90c31-5661-4d62-ed2f-7b824d8846d9"
      },
      "source": [
        "!wget https://raw.githubusercontent.com/umddm/ECE795_Homeworks_Spring2022/homework_4/StudentsPerformance.csv"
      ],
      "execution_count": 2,
      "outputs": [
        {
          "output_type": "stream",
          "name": "stdout",
          "text": [
            "--2022-03-05 23:33:02--  https://raw.githubusercontent.com/umddm/ECE795_Homeworks_Spring2022/homework_4/StudentsPerformance.csv\n",
            "Resolving raw.githubusercontent.com (raw.githubusercontent.com)... 185.199.111.133, 185.199.108.133, 185.199.110.133, ...\n",
            "Connecting to raw.githubusercontent.com (raw.githubusercontent.com)|185.199.111.133|:443... connected.\n",
            "HTTP request sent, awaiting response... 200 OK\n",
            "Length: 72036 (70K) [text/plain]\n",
            "Saving to: ‘StudentsPerformance.csv’\n",
            "\n",
            "StudentsPerformance 100%[===================>]  70.35K  --.-KB/s    in 0.01s   \n",
            "\n",
            "2022-03-05 23:33:03 (5.81 MB/s) - ‘StudentsPerformance.csv’ saved [72036/72036]\n",
            "\n"
          ]
        }
      ]
    },
    {
      "cell_type": "markdown",
      "metadata": {
        "id": "21D9EANUvnwF"
      },
      "source": [
        "Now that we have input data, we can start to do the homework. \n",
        "\n",
        "## Question 1: Please rewrite the given function only with the limited operation. (15 Points)\n",
        "\n",
        "### Expected output:\n",
        "```\n",
        ".sum() by .map() and .reduce().\n",
        "\n",
        "can be rewritten as .reduce(lambda a, b: a + b)\n",
        "```"
      ]
    },
    {
      "cell_type": "code",
      "metadata": {
        "id": "0ZeJ7WQCgM8g",
        "colab": {
          "base_uri": "https://localhost:8080/"
        },
        "outputId": "f482f652-b870-4ed8-efcd-32f45822abd2"
      },
      "source": [
        "#sc.textFile\n",
        "from pyspark import SparkConf, SparkContext\n",
        "sc = SparkContext.getOrCreate()\n",
        "\n",
        "#Sample\n",
        "Sample = sc.textFile('StudentsPerformance.csv')\n",
        "Sample = Sample.map(lambda x: x.replace('\"', ''))\n",
        "header = Sample.first()\n",
        "Sample = Sample.filter(lambda line: line != header)\n",
        "Sample.map(lambda x: int(x.split(',')[-1])).sum() == Sample.map(lambda x: int(x.split(',')[-1])).reduce(lambda a, b: a + b) \n",
        "#Output is Ture"
      ],
      "execution_count": 3,
      "outputs": [
        {
          "output_type": "execute_result",
          "data": {
            "text/plain": [
              "True"
            ]
          },
          "metadata": {},
          "execution_count": 3
        }
      ]
    },
    {
      "cell_type": "markdown",
      "metadata": {
        "id": "2xSGwsLnr1th"
      },
      "source": [
        "### Question 1. 1: (5 Points)\n",
        "Please implement .count() by .map() and .reduce()."
      ]
    },
    {
      "cell_type": "code",
      "metadata": {
        "id": "kFcAP7ulr8FN",
        "colab": {
          "base_uri": "https://localhost:8080/"
        },
        "outputId": "d5320949-792f-41e7-f905-efee7ceb7d99"
      },
      "source": [
        "Sample.count() == Sample.map(lambda word: 1).reduce(lambda a, b: a + b)"
      ],
      "execution_count": 4,
      "outputs": [
        {
          "output_type": "execute_result",
          "data": {
            "text/plain": [
              "True"
            ]
          },
          "metadata": {},
          "execution_count": 4
        }
      ]
    },
    {
      "cell_type": "markdown",
      "metadata": {
        "id": "EFaBf2J0sWcn"
      },
      "source": [
        "### Question 1. 2: (5 Points)\n",
        "Please implement .stdev() by .map() and .reduce().\n",
        "\n",
        "Round to the second decimal places"
      ]
    },
    {
      "cell_type": "code",
      "metadata": {
        "id": "HYE_O6ch_P7n",
        "colab": {
          "base_uri": "https://localhost:8080/"
        },
        "outputId": "42d4c908-0fab-4de1-9379-fbbd31ff9cb9"
      },
      "source": [
        "import numpy as np\n",
        "mydata_Q_1_2 = Sample.map(lambda x: eval(x.split(',')[-1]))\n",
        "rdd_count = mydata_Q_1_2.map(lambda x: 1).reduce(lambda a, b: a + b)    # .count()\n",
        "rdd_mean = mydata_Q_1_2.reduce(lambda a, b: a + b) / rdd_count\n",
        "# rdd_Q1_2.stdev() == np.sqrt(rdd_Q1_2.map(lambda x: (x - rdd_mean) ** 2).reduce(lambda a, b: a + b) / rdd_count)\n",
        "round(mydata_Q_1_2.stdev(), 2) == round(np.sqrt(mydata_Q_1_2.map(lambda x: (x - rdd_mean) ** 2).reduce(lambda a, b: a + b) / rdd_count), 2)"
      ],
      "execution_count": 5,
      "outputs": [
        {
          "output_type": "execute_result",
          "data": {
            "text/plain": [
              "True"
            ]
          },
          "metadata": {},
          "execution_count": 5
        }
      ]
    },
    {
      "cell_type": "markdown",
      "metadata": {
        "id": "T7Bog6GoDrp1"
      },
      "source": [
        "### Question 1. 3: (5 Points)\n",
        "Please implement .reduceByKey() by partitionBy(), map() and glom()\n",
        "\n",
        "A hint to solve this problem is that a custom partitioner should be implemented and use glom to group the data.\n"
      ]
    },
    {
      "cell_type": "code",
      "metadata": {
        "id": "E3msZIoeER3y",
        "colab": {
          "base_uri": "https://localhost:8080/"
        },
        "outputId": "111707fb-66c8-4266-c240-942421d17f50"
      },
      "source": [
        "mydata_Q_1_3 = sc.parallelize(['y','z','y','z','y','z','y','y'])\n",
        "mydata_Q_1_3_count = mydata_Q_1_3.distinct().count()  # 2\n",
        "print (mydata_Q_1_3.map(lambda x: (x, x)).partitionBy(mydata_Q_1_3_count, lambda x: hash(x)).map(lambda x: x[0]).glom().map(lambda word: (word[0], len(word))).collect())\n",
        "print (mydata_Q_1_3.map(lambda word: (word, 1)).reduceByKey(lambda a, b: a + b).map(lambda x: (x[0], x[1])).collect())"
      ],
      "execution_count": 88,
      "outputs": [
        {
          "output_type": "stream",
          "name": "stdout",
          "text": [
            "[('y', 5), ('z', 3)]\n",
            "[('y', 5), ('z', 3)]\n"
          ]
        }
      ]
    },
    {
      "cell_type": "code",
      "source": [
        "mydata_Q_1_3.map(lambda word: (word, 1)).reduceByKey(lambda a, b: a + b).map(lambda x: (x[0], x[1])).collect() == mydata_Q_1_3.map(lambda x: (x, x)).partitionBy(mydata_Q_1_3_count, lambda x: hash(x)).map(lambda x: x[0]).glom().map(lambda word: (word[0], len(word))).collect()"
      ],
      "metadata": {
        "colab": {
          "base_uri": "https://localhost:8080/"
        },
        "id": "W8DFpw-O8-Ca",
        "outputId": "923f8994-1cd9-4ba2-e593-760e282a0d87"
      },
      "execution_count": 89,
      "outputs": [
        {
          "output_type": "execute_result",
          "data": {
            "text/plain": [
              "True"
            ]
          },
          "metadata": {},
          "execution_count": 89
        }
      ]
    },
    {
      "cell_type": "markdown",
      "metadata": {
        "id": "Y3vYyp5dwOm_"
      },
      "source": [
        "## Question 2: Please create an RDD, which contains range(12) with 3 partitions. Then count the minimum of the partition 1, the maximum of the partition 2, and the sum of the third partition. (15 Points)\n",
        "\n",
        "\n",
        "### Sample:\n",
        "```\n",
        "min of the partition 1 = 1\n",
        "max of the partition 2 = 10\n",
        "sum of the partition 3 = 20\n",
        "```"
      ]
    },
    {
      "cell_type": "code",
      "source": [
        "mydata_Q_2 = sc.parallelize(range(12), 3)\n",
        "def f(splitIndex, iterator):\n",
        "  if splitIndex==0:\n",
        "    yield min(iterator)\n",
        "  elif splitIndex==1:\n",
        "    yield max(iterator)\n",
        "  else:\n",
        "    yield sum(iterator)\n",
        "\n",
        "result = mydata_Q_2.mapPartitionsWithIndex(f).glom().collect()\n",
        "result_list = np.array(mydata_Q_2.mapPartitionsWithIndex(f).collect())\n",
        "print ('min of the partition 1 = %d'% (result_list[0])) \n",
        "print ('max of the partition 2 = %d'% (result_list[1])) \n",
        "print ('sum of the partition 3 = %d'% (result_list[2])) "
      ],
      "metadata": {
        "colab": {
          "base_uri": "https://localhost:8080/"
        },
        "id": "s0G_OsqGHlkz",
        "outputId": "c15c6e7d-361d-4259-c380-9ca4d1fd0158"
      },
      "execution_count": 9,
      "outputs": [
        {
          "output_type": "stream",
          "name": "stdout",
          "text": [
            "min of the partition 1 = 0\n",
            "max of the partition 2 = 7\n",
            "sum of the partition 3 = 38\n"
          ]
        }
      ]
    },
    {
      "cell_type": "markdown",
      "metadata": {
        "id": "6FHVHVQjd4P1"
      },
      "source": [
        "## Question 3: Why will pre-partition benefit spark job? Please write a short explanation and a code to prove your answer. (20 Points)\n",
        "\n",
        "### Hint:\n",
        "`ToDebugString()` can be used to debug. Detailed description can be found at https://spark.apache.org/docs/latest/api/java/org/apache/spark/rdd/RDD.html#toDebugString--\n",
        "\n",
        "You can use `toDebugString()` like below:\n",
        "```\n",
        "rdd = sc.textFile('clust_B_part1.txt').toDebugString() \n",
        "```"
      ]
    },
    {
      "cell_type": "markdown",
      "source": [
        "yz_Solution:\n",
        "\n",
        "**Pre**-Partitioning and Its Advantages:\n",
        "\n",
        "---\n",
        "\n",
        "\n",
        "Pre-partitioning means to create the partition using operation, e.g, , before transforming the data for data analysis.\n",
        "\n",
        "Pre-partitioning is for the purpose of computation\n",
        "efficiency\n",
        "\n",
        "*   Shuffle is costly in computations and communications\n",
        "*   Avoiding unnecessary shuffle is critical for efficient\n",
        "processing\n",
        "\n",
        "When an RDD is used for multiple operations that create\n",
        "partitions and the same partitioner can be applied, we\n",
        "should apply pre-partitioning."
      ],
      "metadata": {
        "id": "4xfdSsxx0F2A"
      }
    },
    {
      "cell_type": "code",
      "source": [
        "import time\n",
        "rdd = sc.parallelize(list(range(10000))).map(lambda x: (x % 10, x))\n",
        "\n",
        "# Without pre-partition;\n",
        "Start_1 = time.time()\n",
        "rst1 = rdd.reduceByKey(lambda v1, v2: v1 + v2)   # First shuffle\n",
        "rst2 = rdd.reduceByKey(lambda v1, v2: v1 * v2)  # Second shuffle\n",
        "End_1 = time.time()\n",
        "print('Total time without pre-partition: %f'%(End_1 - Start_1))\n",
        "\n",
        "# With pre-partition;\n",
        "Start_2 = time.time()\n",
        "rdd_part = rdd.partitionBy(10).persist() # Shuffle only occurs here\n",
        "rst1 = rdd_part.reduceByKey(lambda v1, v2: v1 + v2)  # No shuffle\n",
        "rst2 = rdd_part.reduceByKey(lambda v1, v2: v1 * v2)  # No shuffle\n",
        "End_2 = time.time()\n",
        "print('Total time with pre-partition : %f'%(End_2 - Start_2))\n",
        "\n",
        "# Pre-partitioning is for the purpose of computation efficiency.\n",
        "# 1.Shuffle is costly in computations and communications\n",
        "# 2.Avoiding unnecessary shuffle is critical for efficient processing\n",
        "# When an RDD is used for multiple operations that create partitions and the same partitioner can be applied, we should apply pre-partitioning."
      ],
      "metadata": {
        "colab": {
          "base_uri": "https://localhost:8080/"
        },
        "id": "SpVszYOBzbsy",
        "outputId": "893e7874-7e9a-4f04-d06e-787038810455"
      },
      "execution_count": 87,
      "outputs": [
        {
          "output_type": "stream",
          "name": "stdout",
          "text": [
            "Total time without pre-partition: 0.035420\n",
            "Total time with pre-partition : 0.018590\n"
          ]
        }
      ]
    },
    {
      "cell_type": "markdown",
      "metadata": {
        "id": "uIy1IL965Ogm"
      },
      "source": [
        "## Question 4: Please implement the K-Means algorithm described in the lecture slide. And test the implemented algorithm with data in \"s1.txt\" (k=15). (30 Points)\n",
        "\n",
        "\n",
        "The coordinates of the center change less than 0.1 are considered as unchanged.\n",
        "\n",
        "### Input data format:\n",
        "Each row describe a point using two integers, which are its x and y coordinates.\n",
        "The ID of the points is the row number, i.e., the point in the first row has ID=1, the point in the second row has ID=2, etc.\n",
        "\n",
        "### Expected output format:\n",
        "Each line describes a cluster including the cluster ID and the coordinate of its center\n",
        "```\n",
        "Cluster 1 (12.00, 67.33)\n",
        "Cluster 2 (33.25, 23.02)\n",
        "...\n",
        "Cluster 15 (123.43, 456.30)\n",
        "```\n",
        "\n",
        "### Hint:\n",
        "`zipWithIndex()` can be used to add index to the rdd. Detailed description can be found at https://spark.apache.org/docs/latest/api/python/pyspark.html#pyspark.RDD.zipWithIndex"
      ]
    },
    {
      "cell_type": "code",
      "metadata": {
        "id": "5FrRFR9pVQ8L",
        "colab": {
          "base_uri": "https://localhost:8080/"
        },
        "outputId": "6d498340-6892-41be-e3db-9478112622bf"
      },
      "source": [
        "# Please download the data using the following commands\n",
        "!wget http://cs.joensuu.fi/sipu/datasets/s1.txt"
      ],
      "execution_count": 11,
      "outputs": [
        {
          "output_type": "stream",
          "name": "stdout",
          "text": [
            "--2022-03-05 23:33:11--  http://cs.joensuu.fi/sipu/datasets/s1.txt\n",
            "Resolving cs.joensuu.fi (cs.joensuu.fi)... 193.167.239.10\n",
            "Connecting to cs.joensuu.fi (cs.joensuu.fi)|193.167.239.10|:80... connected.\n",
            "HTTP request sent, awaiting response... 200 OK\n",
            "Length: 105000 (103K) [text/plain]\n",
            "Saving to: ‘s1.txt’\n",
            "\n",
            "s1.txt              100%[===================>] 102.54K   227KB/s    in 0.5s    \n",
            "\n",
            "2022-03-05 23:33:12 (227 KB/s) - ‘s1.txt’ saved [105000/105000]\n",
            "\n"
          ]
        }
      ]
    },
    {
      "cell_type": "code",
      "metadata": {
        "id": "7OmbLiCQ5ctu",
        "colab": {
          "base_uri": "https://localhost:8080/",
          "height": 549
        },
        "outputId": "f6fe8bb3-b570-4da0-ad6c-e930529a030b"
      },
      "source": [
        "#Question_4\n",
        "#Fill out here\n",
        "import numpy as np\n",
        "\n",
        "mydata_Q_4 = sc.textFile('s1.txt').map(lambda x: x.split('    ')).map(lambda x: np.array([int(x[1]), int(x[2])]))\n",
        "center = np.array(mydata_Q_4.takeSample(False, 15, 0))\n",
        "center_error = 1\n",
        "k = 0\n",
        "\n",
        "def Q_4_distance(x, center):\n",
        "  distances = np.zeros(15)\n",
        "  for i, c in enumerate(center):\n",
        "    distances[i] = np.linalg.norm(x - c)\n",
        "  return (np.argmin(distances) + 1)\n",
        "\n",
        "while (center_error >= 0.1):\n",
        "  mydata_Q_4_distance = mydata_Q_4.map(lambda x: (Q_4_distance(x, center), np.array([x[0], x[1]])))\n",
        "  update_center = np.array(mydata_Q_4_distance.aggregateByKey((0, 0), lambda x, y: (x[0] + y, x[1] + 1), lambda x, y: (x[0] + y[0], x[1] + y[1]))\\\n",
        "  .mapValues(lambda x: x[0] / x[1])\\\n",
        "  .sortBy(lambda x: x[0]).values().collect())\n",
        "  center_error = np.sum(np.abs(center - update_center))\n",
        "  center = update_center\n",
        "  k += 1\n",
        "  # print(k, center_error)\n",
        "\n",
        "for i, c in enumerate(update_center):\n",
        "  print('Cluster %d  (%.2f, %.2f)'%(i + 1, c[0], c[1]))\n",
        "\n",
        "#plot\n",
        "import matplotlib.pyplot as plt\n",
        "mydata_Q_4_list = np.array(mydata_Q_4.map(lambda x: (x[0], x[1])).collect())\n",
        "from sklearn.cluster import KMeans\n",
        "kmeans = KMeans(n_clusters= 15)\n",
        "label = kmeans.fit_predict(mydata_Q_4_list)\n",
        "u_labels = np.unique(label)\n",
        "centroids = kmeans.cluster_centers_\n",
        "u_labels = np.unique(label)\n",
        "for i in u_labels:\n",
        "    plt.scatter(mydata_Q_4_list[label == i , 0] , mydata_Q_4_list[label == i , 1] , label = i)\n",
        "plt.scatter(centroids[:,0] , centroids[:,1] , s = 80, color = 'k')\n",
        "plt.legend()\n",
        "plt.show()"
      ],
      "execution_count": 86,
      "outputs": [
        {
          "output_type": "stream",
          "name": "stdout",
          "text": [
            "Cluster 1  (606574.96, 574455.17)\n",
            "Cluster 2  (856684.76, 592627.10)\n",
            "Cluster 3  (168840.83, 345737.02)\n",
            "Cluster 4  (416754.89, 168273.36)\n",
            "Cluster 5  (337264.76, 562123.38)\n",
            "Cluster 6  (669176.09, 862820.66)\n",
            "Cluster 7  (859341.61, 531362.26)\n",
            "Cluster 8  (807347.47, 761740.06)\n",
            "Cluster 9  (852058.45, 157685.52)\n",
            "Cluster 10  (801336.54, 320450.00)\n",
            "Cluster 11  (617870.07, 398983.26)\n",
            "Cluster 12  (326800.24, 818471.65)\n",
            "Cluster 13  (829943.24, 719680.20)\n",
            "Cluster 14  (139395.23, 558143.94)\n",
            "Cluster 15  (398870.05, 404924.07)\n"
          ]
        },
        {
          "output_type": "display_data",
          "data": {
            "image/png": "[encoded data removed]",
            "text/plain": [
              "<Figure size 432x288 with 1 Axes>"
            ]
          },
          "metadata": {
            "needs_background": "light"
          }
        }
      ]
    },
    {
      "cell_type": "markdown",
      "metadata": {
        "id": "_IYg8pSLUkxj"
      },
      "source": [
        "## Question 5: Please implement the One-Dimension Gaussian Mixture model described in the following. And test the implemented algorithm with the **first column** of data in \"s1.txt\" (k = 15). (Bonus: 20 Points)\n",
        "\n",
        "\n",
        "No matter whether the model converges, run the model for 10 iterations\n",
        "\n",
        "### Algorithm Description\n",
        "\n",
        "This algorithm is similar to K-Means, clustering the given data. Different from K-means, Gaussain Mixture model defines each cluster by mean, variance and weight, instead of the coordination of the cluster center\n",
        "\n",
        "- Step1: Assign initial means, variance, and weights of each cluster\n",
        "\n",
        "  - Each cluster is defined by three value $C(\\mu, \\sigma^2, w)$. \n",
        "  - Mean $\\mu$ can be initialized by the value of a randomly selected data. \n",
        "  - Variance $\\sigma^2$ can be initialized by the variance of 15 randomly selected data. \n",
        "  - Weight $w$ can be initialized by 1.\n",
        "\n",
        "- Step2: Go to an iteration\n",
        "\n",
        "  - Compute a score for each data point $x$ and all the clusters, using the provided *pdf* function.\n",
        "  - Assign each data point to the cluster with the highest score\n",
        "  - Compute normalized score of each data point by: $S_{i,k}=\\dfrac{s_{i,k}}{\\sum_{j=1}^{K}{s_{i,j}}}$ ($K$ is the number of clusters)\n",
        "  - For each cluster k \n",
        "    - Update mean of the cluster by: $\\mu_k'=\\dfrac{\\sum_{i=1}^{N}(x_iS_{i,k})}{0.001+\\sum_{i=1}^{N}{S_{i,k}}}$\n",
        "    - Update variance of the cluster by: $\\sigma_k'^2 = \\dfrac{\\sum_{i=1}^{N}[S_{i,k}(x_i - \\mu)^2]}{0.001+\\sum_{i=1}^{N}{S_{i,k}}}$\n",
        "    - Update weight of the cluster by: $\\dfrac{\\sum_{i=1}^{N}S_{i,k}}{N}$\n",
        "    - $N$ is the number of data points in the dataset\n",
        "    - $s_{i,k}$ is the score of the $i$-th data point for the cluster k\n",
        "\n",
        "### Expected output format:\n",
        "Each line describes a cluster including the cluster ID, mean, variance, and weight.\n",
        "```\n",
        "Cluster 1: mean=12.00, variance=1.23, weight=2.23\n",
        "Cluster 2: mean=5.23, variance=2.33, weight=4.23\n",
        "...\n",
        "Cluster 15: mean=17.20, variance=0.64, weight=1.68\n",
        "```"
      ]
    },
    {
      "cell_type": "code",
      "metadata": {
        "id": "piyrM_sOpYQ8"
      },
      "source": [
        "def pdf(data: float, mean: float, variance: float, weight: float):\n",
        "  s1 = 1/(np.sqrt(2*np.pi*variance))\n",
        "  s2 = np.exp(-(np.square(data - mean)/(2*variance)))\n",
        "  return s1 * s2 * weight"
      ],
      "execution_count": 13,
      "outputs": []
    },
    {
      "cell_type": "code",
      "metadata": {
        "id": "_uVBRnuw5NBa",
        "colab": {
          "base_uri": "https://localhost:8080/"
        },
        "outputId": "b8adc60e-d3b7-4ec6-d914-5fa8d26e567f"
      },
      "source": [
        "#Question_5\n",
        "#Fill out here\n",
        "\n",
        "import numpy as np\n",
        "\n",
        "mydata_Q_5 = sc.textFile('s1.txt').map(lambda x: x.split('    ')).map(lambda x: int(x[1]))\n",
        "means = mydata_Q_5.takeSample(False, 15)\n",
        "variances = []\n",
        "weights = [1] * 15\n",
        "\n",
        "def pdf(data: float, mean: float, variance: float, weight: float):\n",
        "  s1 = 1/(np.sqrt(2*np.pi*variance))\n",
        "  s2 = np.exp(-(np.square(data - mean)/(2*variance)))\n",
        "  return s1 * s2 * weight\n",
        "\n",
        "def pdfs(data, means, variances, weights):\n",
        "  values = []\n",
        "  for i in range(15):\n",
        "    values.append(pdf(data, means[i], variances[i], weights[i]))\n",
        "  Cluster_argmax = np.argmax(values)\n",
        "  return (data, Cluster_argmax, max(values))\n",
        "\n",
        "def norm(sum, values):\n",
        "  return values/(0.001 + sum)\n",
        "\n",
        "for i in range(15):\n",
        "  variances.append(np.var(mydata_Q_5.takeSample(False, 15)))\n",
        "\n",
        "for _ in range(10):\n",
        "    mydata_Cluster_ID_values = mydata_Q_5.map(lambda data: pdfs(data, means, variances, weights))\n",
        "    Cluster_ID_values = mydata_Cluster_ID_values.map(lambda x: (x[1], x[2]))\n",
        "    Cluster_sum = Cluster_ID_values.reduceByKey(lambda v1, v2: v1 + v2)\n",
        "    Cluster_ID_values_norm = Cluster_sum.join(mydata_Cluster_ID_values.map(lambda x: (x[1], (x[0], x[2])))).map(lambda x: (x[0], (x[1][1][0], norm(x[1][0], x[1][1][1]))))\n",
        "    Cluster_ID_mean_1 = Cluster_ID_values_norm.mapValues(lambda x: x[0] * x[1]).reduceByKey(lambda v1, v2: v1 + v2)\n",
        "    Cluster_ID_mean_2 = Cluster_ID_values_norm.mapValues(lambda x: x[1]).reduceByKey(lambda v1, v2: v1 + v2)\n",
        "    Cluster_ID_mean = Cluster_ID_mean_1.join(Cluster_ID_mean_2).mapValues(lambda x: x[0]/(0.001 + x[1])).collect()\n",
        "    for (Cluster_ID, update_mean) in Cluster_ID_mean:\n",
        "      means[Cluster_ID] = update_mean\n",
        "\n",
        "    Cluster_ID_var_1 = Cluster_ID_values_norm.map(lambda x: (x[0], x[1][1] * (x[1][0] - means[x[0]])**2)).reduceByKey(lambda v1, v2: v1 + v2)\n",
        "    Cluster_ID_var = Cluster_ID_var_1.join(Cluster_ID_mean_2).mapValues(lambda x: x[0]/(0.001 + x[1])).collect()\n",
        "    for (Cluster_ID, update_var) in Cluster_ID_var:\n",
        "      variances[Cluster_ID] = update_var\n",
        "\n",
        "    Cluster_ID_weight = Cluster_ID_mean_2.mapValues(lambda x: x / 15).collect()\n",
        "    for (Cluster_ID, update_weight) in Cluster_ID_weight:\n",
        "      weights[Cluster_ID] = update_weight\n",
        "\n",
        "for i in range(15):\n",
        "  print('Cluster %d:  mean=%.2f,  variance=%.2f,  weight=%f'%(i + 1, means[i], variances[i], weights[i]))"
      ],
      "execution_count": 84,
      "outputs": [
        {
          "output_type": "stream",
          "name": "stdout",
          "text": [
            "Cluster 1:  mean=18999.83,  variance=3221886401.53,  weight=0.000007\n",
            "Cluster 2:  mean=260340.71,  variance=32445870898.79,  weight=0.000070\n",
            "Cluster 3:  mean=138.54,  variance=7889750.18,  weight=0.000000\n",
            "Cluster 4:  mean=45235.90,  variance=22401357479.70,  weight=0.000006\n",
            "Cluster 5:  mean=27156.15,  variance=12328290665.66,  weight=0.000004\n",
            "Cluster 6:  mean=1321.79,  variance=109393398.49,  weight=0.000001\n",
            "Cluster 7:  mean=73.24,  variance=69083802.60,  weight=0.000000\n",
            "Cluster 8:  mean=711023.05,  variance=6957708594.74,  weight=0.000558\n",
            "Cluster 9:  mean=6908.69,  variance=1314542490.90,  weight=0.000002\n",
            "Cluster 10:  mean=383.83,  variance=230555134.08,  weight=0.000000\n",
            "Cluster 11:  mean=205176.87,  variance=12371813659.93,  weight=0.000098\n",
            "Cluster 12:  mean=5.00,  variance=133729.68,  weight=0.000000\n",
            "Cluster 13:  mean=126903.70,  variance=6411757174.53,  weight=0.000083\n",
            "Cluster 14:  mean=96039.50,  variance=29717203734.33,  weight=0.000017\n",
            "Cluster 15:  mean=34528.75,  variance=2258988688.86,  weight=0.000027\n"
          ]
        }
      ]
    }
  ]
}